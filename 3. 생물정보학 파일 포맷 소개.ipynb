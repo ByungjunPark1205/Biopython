{
 "cells": [
  {
   "cell_type": "markdown",
   "id": "bc711e13",
   "metadata": {},
   "source": [
    "# 문항 1. 다음 SAM flag를 해석하시오.\n",
    "\n",
    "SAM flag: 133\n",
    "\n"
   ]
  },
  {
   "cell_type": "markdown",
   "id": "c15e1330",
   "metadata": {},
   "source": [
    "- 리드가 정렬된 상태를 SAM flags 조합으로 설명함\n",
    "- 해당 10진수를 2진수로 바꾸고, 1이 있는 자릿수로 \n",
    "- https://broadinstitute.github.io/picard/explain-flags.html\n",
    "- 위 URL에 해당 10진수를 입력하면 해당 내용의 설명이 바로 출력된다.\n",
    "- 그리고 10진수를 2진수로 바꾸는 파이썬의 함수는 bin()이다."
   ]
  },
  {
   "cell_type": "code",
   "execution_count": 3,
   "id": "987d1b3c",
   "metadata": {},
   "outputs": [
    {
     "data": {
      "text/plain": [
       "'0b10000101'"
      ]
     },
     "execution_count": 3,
     "metadata": {},
     "output_type": "execute_result"
    }
   ],
   "source": [
    "bin(133)"
   ]
  },
  {
   "cell_type": "markdown",
   "id": "a81a43d9",
   "metadata": {},
   "source": [
    "Summary:\\\n",
    "    read paired (0x1)\\\n",
    "    read unmapped (0x4)\\\n",
    "    second in pair (0x80)\n",
    "    \n",
    "ANS:\n",
    "\n",
    "133=1+4+128"
   ]
  },
  {
   "cell_type": "markdown",
   "id": "476b772a",
   "metadata": {},
   "source": [
    "# 문항 2. 다음 서열을 CIGAR 문자열로 표현하시오.\n",
    "\n",
    "기준 0: ACCGTT\\*\\*AACTGCT\\\n",
    "서열 1: CGTTTTAACT\\\n",
    "서열 2: CCGTT\\*TAA\\*\\*GC\\\n",
    "서열 3: CGTT\\*\\*AACT"
   ]
  },
  {
   "cell_type": "markdown",
   "id": "fbff9d7b",
   "metadata": {},
   "source": [
    "- M: Match의 \"M\", 정렬된 리드가 맞춰졌음을 의미한다. \n",
    "- I: Insertion의 \"I\", 기준 서열에 정렬하였을 때 염기가 추가되었음을 의미한다.\n",
    "- D: Deletion의 \"D\", 기준 서열에 정렬하였을 때 염기가 빠졌음을 의미한다.\n",
    "- N: Skipped region, 기준 서열과 비교하였을 때 염기가 건너뛰어졌음을 의미한다.\n",
    "- S: Soft clip, 리드의 염기가 잘렸으나(clipped) SAM/BAM 파일에는 남아 있는 잘린 서열이다.\n",
    "- H: Hard clip, 리드의 염기가 잘렸으며(clipped) SAM/BAM 파일에도 남아 있지 않은 서열이다.\n",
    "- P: Padding, 기준 서열에는 없지만, 리드에는 추가된 패딩 서열을 의미한다. De novo assembler가 해당 CIGAR 문자를 만든다.\n",
    "\n",
    "ANS:\n",
    "- 서열 1: 4M2I4M\n",
    "- 서열 2: 5M1I2M2D2M\n",
    "- 서열 3: 8M\n"
   ]
  },
  {
   "cell_type": "markdown",
   "id": "dcda84b2",
   "metadata": {},
   "source": [
    "# 문항 3. VCF 파일의 헤더와 내용을 구분할 수 있는 문자는 무엇인가?"
   ]
  },
  {
   "cell_type": "markdown",
   "id": "81966884",
   "metadata": {},
   "source": [
    "- VCF는 변이를 표기하기 위해 만든 포맷으로 크게 메타데이터와 내용 부분으로 나눌 수 있다.\n",
    "- **메타데이터(헤더)는 #(샾)으로 시작되는 부분**\n",
    "- **2개의 샵으로 시작되는 부분은 VCF파일에 대한 정보로 키=값(Key=Value) 관계로 표현한다.**\n",
    "\n",
    "ANS:\\\n",
    "#(샵 문자)"
   ]
  },
  {
   "cell_type": "markdown",
   "id": "441785fc",
   "metadata": {},
   "source": [
    "# 문항 4. BED 파일의 필수적인 3개 열 정보는 무엇인가?"
   ]
  },
  {
   "cell_type": "markdown",
   "id": "bc39d906",
   "metadata": {},
   "source": [
    "- BED(Browser Extensible Data) 포맷은 유전체를 구간별로 나누어 구간의 특징을 주석으로 표기할 수 있는 파일 형식으로 각 항목들은 탭으로 나뉜 텍스트 파일이다.\n",
    "- chrom: 염색체다.(ex. chr5)\n",
    "- chromStart: 구간이 시작되는 지점이다. 시작 지점이 0이다. (ex. 55220083)\n",
    "- chromEnd: 구간이 끝나는 지점이다. (ex. 55220357)\n",
    "\n",
    "ANS:\\\n",
    "염색체 이름, 포지션 시작, 포지션 끝"
   ]
  },
  {
   "cell_type": "markdown",
   "id": "fc38e202",
   "metadata": {},
   "source": [
    "# 문항 5. 샘플 3개의 정보가 들어있는 VCF 파일의 내용 부분은 몇 개 열로 이루어져 있는가?"
   ]
  },
  {
   "cell_type": "markdown",
   "id": "726f771f",
   "metadata": {},
   "source": [
    "- VCF는 내용 부분은 8개의 필수 열과 샘플에 따라 추가되는 열로 이루어진다.\n",
    "\n",
    "ANS:\\\n",
    "12개열\n",
    "\n",
    "-> 메타데이터(1열) + 내용 부분의 필수 열(8개) + 샘플 열(3개) = 12"
   ]
  },
  {
   "cell_type": "markdown",
   "id": "a7c7daf6",
   "metadata": {},
   "source": [
    "# 문항 6. Phred33 기준으로 작성된 다음 FASTQ 리드의 퀄리티 평균을 구하시오."
   ]
  },
  {
   "cell_type": "markdown",
   "id": "7e2718e6",
   "metadata": {},
   "source": [
    "@read1\\\n",
    "CCAGTAT\\\n",
    "+\\\n",
    "5??FF<FF"
   ]
  },
  {
   "cell_type": "code",
   "execution_count": 2,
   "id": "915a7657",
   "metadata": {},
   "outputs": [
    {
     "data": {
      "text/plain": [
       "31.875"
      ]
     },
     "execution_count": 2,
     "metadata": {},
     "output_type": "execute_result"
    }
   ],
   "source": [
    "A = [20, 30, 30, 37, 37, 27, 37, 37]\n",
    "sum(A)/len(A)"
   ]
  }
 ],
 "metadata": {
  "kernelspec": {
   "display_name": "Python 3 (ipykernel)",
   "language": "python",
   "name": "python3"
  },
  "language_info": {
   "codemirror_mode": {
    "name": "ipython",
    "version": 3
   },
   "file_extension": ".py",
   "mimetype": "text/x-python",
   "name": "python",
   "nbconvert_exporter": "python",
   "pygments_lexer": "ipython3",
   "version": "3.9.7"
  }
 },
 "nbformat": 4,
 "nbformat_minor": 5
}
