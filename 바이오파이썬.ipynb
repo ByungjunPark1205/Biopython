{
 "cells": [
  {
   "cell_type": "markdown",
   "id": "3e1b0a91",
   "metadata": {},
   "source": [
    "# 3. 생물정보학 파일 포맷 소개"
   ]
  },
  {
   "cell_type": "markdown",
   "id": "bc711e13",
   "metadata": {},
   "source": [
    "## 문항 1. 다음 SAM flag를 해석하시오.\n",
    "\n",
    "SAM flag: 133\n",
    "\n"
   ]
  },
  {
   "cell_type": "markdown",
   "id": "c15e1330",
   "metadata": {},
   "source": [
    "- 리드가 정렬된 상태를 SAM flags 조합으로 설명함\n",
    "- 해당 10진수를 2진수로 바꾸고, 1이 있는 자릿수로 \n",
    "- https://broadinstitute.github.io/picard/explain-flags.html\n",
    "- 위 URL에 해당 10진수를 입력하면 해당 내용의 설명이 바로 출력된다.\n",
    "- 그리고 10진수를 2진수로 바꾸는 파이썬의 함수는 bin()이다."
   ]
  },
  {
   "cell_type": "code",
   "execution_count": 3,
   "id": "987d1b3c",
   "metadata": {},
   "outputs": [
    {
     "data": {
      "text/plain": [
       "'0b10000101'"
      ]
     },
     "execution_count": 3,
     "metadata": {},
     "output_type": "execute_result"
    }
   ],
   "source": [
    "bin(133)"
   ]
  },
  {
   "cell_type": "markdown",
   "id": "a81a43d9",
   "metadata": {},
   "source": [
    "ANS:\n",
    "\n",
    "Summary:\\\n",
    "    read paired (0x1)\\\n",
    "    read unmapped (0x4)\\\n",
    "    second in pair (0x80)"
   ]
  },
  {
   "cell_type": "markdown",
   "id": "476b772a",
   "metadata": {},
   "source": [
    "## 문항 2. 다음 서열을 CIGAR 문자열로 표현하시오.\n",
    "\n",
    "기준 0: ACCGTT\\*\\*AACTGCT\\\n",
    "서열 1: CGTTTTAACT\\\n",
    "서열 2: CCGTT\\*TAA\\*\\*GC\\\n",
    "서열 3: CGTT\\*\\*AACT"
   ]
  },
  {
   "cell_type": "markdown",
   "id": "fbff9d7b",
   "metadata": {},
   "source": [
    "- M: Match의 \"M\", 정렬된 리드가 맞춰졌음을 의미한다. \n",
    "- I: Insertion의 \"I\", 기준 서열에 정렬하였을 때 염기가 추가되었음을 의미한다.\n",
    "- D: Deletion의 \"D\", 기준 서열에 정렬하였을 때 염기가 빠졌음을 의미한다.\n",
    "- N: Skipped region, 기준 서열과 비교하였을 때 염기가 건너뛰어졌음을 의미한다.\n",
    "- S: Soft clip, 리드의 염기가 잘렸으나(clipped) SAM/BAM 파일에는 남아 있는 잘린 서열이다.\n",
    "- H: Hard clip, 리드의 염기가 잘렸으며(clipped) SAM/BAM 파일에도 남아 있지 않은 서열이다.\n",
    "- P: Padding, 기준 서열에는 없지만, 리드에는 추가된 패딩 서열을 의미한다. De novo assembler가 해당 CIGAR 문자를 만든다.\n",
    "\n",
    "ANS:\n",
    "- 서열 1: 4M2I4M\n",
    "- 서열 2: 5M1I2M2D2M\n",
    "- 서열 3: 8M\n"
   ]
  },
  {
   "cell_type": "code",
   "execution_count": null,
   "id": "f2b918e7",
   "metadata": {},
   "outputs": [],
   "source": []
  }
 ],
 "metadata": {
  "kernelspec": {
   "display_name": "Python 3 (ipykernel)",
   "language": "python",
   "name": "python3"
  },
  "language_info": {
   "codemirror_mode": {
    "name": "ipython",
    "version": 3
   },
   "file_extension": ".py",
   "mimetype": "text/x-python",
   "name": "python",
   "nbconvert_exporter": "python",
   "pygments_lexer": "ipython3",
   "version": "3.9.7"
  }
 },
 "nbformat": 4,
 "nbformat_minor": 5
}
