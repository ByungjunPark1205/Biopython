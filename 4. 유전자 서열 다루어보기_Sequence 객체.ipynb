{
 "cells": [
  {
   "cell_type": "markdown",
   "id": "18df54e7",
   "metadata": {},
   "source": [
    "# 4. 유전자 서열 다루어보기_Sequence 객체\n",
    "## 4.3 Sequence 객체소개\n",
    "### 4.3.1 Sequence 객체 만들기"
   ]
  },
  {
   "cell_type": "code",
   "execution_count": 1,
   "id": "0915a73e",
   "metadata": {},
   "outputs": [
    {
     "name": "stdout",
     "output_type": "stream",
     "text": [
      "tataaaggcAATATGCAGTAG\n",
      "<class 'Bio.Seq.Seq'>\n"
     ]
    }
   ],
   "source": [
    "# 4.3.1.make_sequence.py \n",
    "from Bio.Seq import Seq \n",
    "\n",
    "tatabox_seq = Seq(\"tataaaggcAATATGCAGTAG\") \n",
    "print(tatabox_seq)  #  tataaaggcAATATGCAGTAG 가 출력된다. \n",
    "print(type(tatabox_seq)) # <class 'Bio.Seq.Seq'> "
   ]
  },
  {
   "cell_type": "code",
   "execution_count": 2,
   "id": "29cda3c4",
   "metadata": {},
   "outputs": [
    {
     "name": "stdout",
     "output_type": "stream",
     "text": [
      "tataaaggcAATATGCAGTAG\n",
      "<class 'Bio.Seq.Seq'>\n"
     ]
    }
   ],
   "source": [
    "from Bio.Seq import Seq\n",
    "tatabox_seq = Seq(\"tataaaggcAATATGCAGTAG\")\n",
    "print(tatabox_seq)  #  tataaaggcAATATGCAGTAG 가 출력된다. \n",
    "print(type(tatabox_seq)) # <class 'Bio.Seq.Seq'> "
   ]
  },
  {
   "cell_type": "markdown",
   "id": "f6b6b68f",
   "metadata": {},
   "source": [
    "### 4.3.2 Alphabet 모듈\n",
    "\n",
    "- 내가 넣어준 서열이 DNA, RNA, 아미노산 서열 중 어느 것인지 알 수 있도록 해주는 모듈\n",
    "- **모듈이 삭제됨**"
   ]
  },
  {
   "cell_type": "code",
   "execution_count": 3,
   "id": "8a7cb924",
   "metadata": {},
   "outputs": [
    {
     "name": "stdout",
     "output_type": "stream",
     "text": [
      "Note: you may need to restart the kernel to use updated packages.\n"
     ]
    },
    {
     "name": "stderr",
     "output_type": "stream",
     "text": [
      "ERROR: Could not find a version that satisfies the requirement Bio.Alphabet (from versions: none)\n",
      "ERROR: No matching distribution found for Bio.Alphabet\n"
     ]
    }
   ],
   "source": [
    "pip install Bio.Alphabet"
   ]
  },
  {
   "cell_type": "code",
   "execution_count": 24,
   "id": "ab8c9cd5",
   "metadata": {},
   "outputs": [
    {
     "name": "stdout",
     "output_type": "stream",
     "text": [
      "tataaaggcAATATGCAGTAG\n",
      "<class 'Bio.Seq.Seq'>\n"
     ]
    }
   ],
   "source": [
    "from Bio.Seq import Seq \n",
    "\n",
    "\n",
    "tatabox_seq = Seq(\"tataaaggcAATATGCAGTAG\")\n",
    "print(tatabox_seq) # tataaaggcAATATGCAGTAG 가 출력된다. \n",
    "print(type(tatabox_seq)) # <class 'Bio.Seq.Seq'> "
   ]
  },
  {
   "cell_type": "code",
   "execution_count": 15,
   "id": "b6a5205b",
   "metadata": {},
   "outputs": [
    {
     "data": {
      "text/plain": [
       "'1.79'"
      ]
     },
     "execution_count": 15,
     "metadata": {},
     "output_type": "execute_result"
    }
   ],
   "source": [
    "Bio.__version__"
   ]
  },
  {
   "cell_type": "markdown",
   "id": "96f33353",
   "metadata": {},
   "source": [
    "## 4.4 Sequence 객체 다루기\n",
    "### 4.4.1 Sequence 객체에 포함된 서열 세기"
   ]
  },
  {
   "cell_type": "code",
   "execution_count": 18,
   "id": "5c66e0df",
   "metadata": {
    "scrolled": true
   },
   "outputs": [
    {
     "name": "stdout",
     "output_type": "stream",
     "text": [
      "3\n"
     ]
    }
   ],
   "source": [
    "from Bio.Seq import Seq \n",
    "\n",
    "exon_seq = Seq(\"ATGCAGTAG\") \n",
    "count_a = exon_seq.count(\"A\") \n",
    "print(count_a) # 3 이 출력된다. "
   ]
  },
  {
   "cell_type": "markdown",
   "id": "cb8fdeac",
   "metadata": {},
   "source": [
    "### 4.4.2 Sequence 객체의 GC-contents(%) 계산하기"
   ]
  },
  {
   "cell_type": "code",
   "execution_count": 21,
   "id": "eb91729f",
   "metadata": {},
   "outputs": [
    {
     "name": "stdout",
     "output_type": "stream",
     "text": [
      "44.44444444444444\n"
     ]
    }
   ],
   "source": [
    "from Bio.Seq import Seq \n",
    "\n",
    "exon_seq = Seq(\"ATGCAGTAG\") \n",
    "g_count = exon_seq.count(\"G\") \n",
    "c_count = exon_seq.count(\"C\") \n",
    "gc_contents = (g_count + c_count) / len(exon_seq) * 100 \n",
    "print(gc_contents)  # 44.44 "
   ]
  },
  {
   "cell_type": "markdown",
   "id": "4b3880fa",
   "metadata": {},
   "source": [
    "### 4.4.3 Sequence 객체 서열 대소문자 변환하기"
   ]
  },
  {
   "cell_type": "code",
   "execution_count": 22,
   "id": "7293c860",
   "metadata": {},
   "outputs": [
    {
     "name": "stdout",
     "output_type": "stream",
     "text": [
      "TATAAAGGCAATATGCAGTAG\n",
      "tataaaggcaatatgcagtag\n"
     ]
    }
   ],
   "source": [
    "from Bio.Seq import Seq \n",
    "\n",
    "tatabox_seq = Seq(\"tataaaggcAATATGCAGTAG\") \n",
    "print(tatabox_seq.upper())  # TATAAAGGCAATATGCAGTAG \n",
    "print(tatabox_seq.lower())  # tataaaggcaatatgcagtag"
   ]
  },
  {
   "cell_type": "markdown",
   "id": "67b01c26",
   "metadata": {},
   "source": [
    "### 4.4.4 Sequence 객체 전사, 번역하기"
   ]
  },
  {
   "cell_type": "code",
   "execution_count": 23,
   "id": "548dda3b",
   "metadata": {},
   "outputs": [
    {
     "name": "stdout",
     "output_type": "stream",
     "text": [
      "AUGCAGUAG\n",
      "MQ*\n"
     ]
    }
   ],
   "source": [
    "from Bio.Seq import Seq \n",
    "\n",
    "dna = Seq(\"ATGCAGTAG\") \n",
    "mrna = dna.transcribe() \n",
    "ptn = dna.translate() \n",
    "print(mrna)  # AUGCAGUAG \n",
    "print(ptn)  # MQ* "
   ]
  },
  {
   "cell_type": "markdown",
   "id": "44db5eec",
   "metadata": {},
   "source": [
    "### 4.4.5 첫 번째 종결 코돈에서 번역 종료하기"
   ]
  },
  {
   "cell_type": "code",
   "execution_count": 25,
   "id": "d488b064",
   "metadata": {},
   "outputs": [
    {
     "name": "stdout",
     "output_type": "stream",
     "text": [
      "MN*V*N\n"
     ]
    }
   ],
   "source": [
    "from Bio.Seq import Seq \n",
    "\n",
    "mRNA = Seq(\"AUGAACUAAGUUUAGAAU\") \n",
    "ptn = mRNA.translate() \n",
    "print(ptn)  ## MN*V*N "
   ]
  },
  {
   "cell_type": "code",
   "execution_count": 26,
   "id": "6e5b0971",
   "metadata": {},
   "outputs": [
    {
     "name": "stdout",
     "output_type": "stream",
     "text": [
      "MN\n"
     ]
    }
   ],
   "source": [
    "from Bio.Seq import Seq \n",
    "\n",
    "mRNA = Seq(\"AUGAACUAAGUUUAGAAU\") \n",
    "ptn = mRNA.translate(to_stop=True) \n",
    "print(ptn) ## MN "
   ]
  },
  {
   "cell_type": "markdown",
   "id": "581ae089",
   "metadata": {},
   "source": [
    "### 4.4.6 종결 코돈 기준으로 서열 나누기"
   ]
  },
  {
   "cell_type": "code",
   "execution_count": 27,
   "id": "7a57aa5b",
   "metadata": {},
   "outputs": [
    {
     "name": "stdout",
     "output_type": "stream",
     "text": [
      "MN*V*N\n",
      "MN\n",
      "V\n",
      "N\n"
     ]
    }
   ],
   "source": [
    "from Bio.Seq import Seq \n",
    "\n",
    "mrna = Seq(\"AUGAACUAAGUUUAGAAU\") \n",
    "ptn = mrna.translate() \n",
    "print(ptn)  ## MN*V*N \n",
    "for seq in ptn.split(\"*\"): \n",
    "    print(seq) "
   ]
  },
  {
   "cell_type": "code",
   "execution_count": 28,
   "id": "3c5e73ec",
   "metadata": {},
   "outputs": [
    {
     "data": {
      "text/plain": [
       "Bio.Seq.Seq"
      ]
     },
     "execution_count": 28,
     "metadata": {},
     "output_type": "execute_result"
    }
   ],
   "source": [
    "type(ptn)"
   ]
  },
  {
   "cell_type": "markdown",
   "id": "f062a47e",
   "metadata": {},
   "source": [
    "### 4.4.7 DNA Sequence 상보적, 역상보적 서열 만들기"
   ]
  },
  {
   "cell_type": "markdown",
   "id": "2162af86",
   "metadata": {},
   "source": [
    "순수 파이썬 구현으로 DNA Sequence 상보적, 역상보적 서열 만들기"
   ]
  },
  {
   "cell_type": "code",
   "execution_count": 5,
   "id": "b632cbaf",
   "metadata": {},
   "outputs": [
    {
     "name": "stdout",
     "output_type": "stream",
     "text": [
      "ATATTTCCGTTATACGTCATC\n",
      "CTACTGCATATTGCCTTTATA\n"
     ]
    }
   ],
   "source": [
    "# 4.4.7. complement.py\n",
    "seq = \"TATAAAGGCAATATGCAGTAG\"\n",
    "comp_dic = {'A':'T', 'C':'G', 'G':'C', 'T':'A'} # 상보적 염기를 키-값응로 하는 사전을 만든다\n",
    "comp_seq = \"\"\n",
    "for s in seq: # 서열에서 하나씩 읽어\n",
    "    comp_seq += comp_dic[s] # 상보적 염기를 추가해준다\n",
    "revcomp_seq = comp_seq[::-1] # 파이썬 문자열을 뒤집어 준다\n",
    "print(comp_seq)\n",
    "print(revcomp_seq)\n",
    "    "
   ]
  },
  {
   "cell_type": "markdown",
   "id": "ead34f24",
   "metadata": {},
   "source": [
    "바이오파이썬으로 DNA Sequence 상보적, 역상보적 서열 만들기"
   ]
  },
  {
   "cell_type": "code",
   "execution_count": 9,
   "id": "c987579a",
   "metadata": {},
   "outputs": [
    {
     "name": "stdout",
     "output_type": "stream",
     "text": [
      "ATATTTCCGTTATACGTCATC\n",
      "CTACTGCATATTGCCTTTATA\n"
     ]
    }
   ],
   "source": [
    "# 4.4.7.complement.bio.py \n",
    "from Bio.Seq import Seq \n",
    "\n",
    "seq = Seq(\"TATAAAGGCAATATGCAGTAG\") \n",
    "ㅁcomp_seq = seq.complement()\n",
    "rev_comp_seq = seq.reverse_complement() \n",
    "print(comp_seq)  # ATATTTCCGTTATACGTCATC \n",
    "print(rev_comp_seq)  # CTACTGCATATTGCCTTTATA "
   ]
  },
  {
   "cell_type": "markdown",
   "id": "def814b8",
   "metadata": {},
   "source": [
    "### 4.4.8 코돈 테이블"
   ]
  },
  {
   "cell_type": "markdown",
   "id": "2196bff0",
   "metadata": {},
   "source": [
    "바이오 파이썬을 이용하여 코든 테이블을 출력할 수 있다."
   ]
  },
  {
   "cell_type": "code",
   "execution_count": 10,
   "id": "23ea7790",
   "metadata": {},
   "outputs": [
    {
     "name": "stdout",
     "output_type": "stream",
     "text": [
      "Table 1 Standard, SGC0\n",
      "\n",
      "  |  T      |  C      |  A      |  G      |\n",
      "--+---------+---------+---------+---------+--\n",
      "T | TTT F   | TCT S   | TAT Y   | TGT C   | T\n",
      "T | TTC F   | TCC S   | TAC Y   | TGC C   | C\n",
      "T | TTA L   | TCA S   | TAA Stop| TGA Stop| A\n",
      "T | TTG L(s)| TCG S   | TAG Stop| TGG W   | G\n",
      "--+---------+---------+---------+---------+--\n",
      "C | CTT L   | CCT P   | CAT H   | CGT R   | T\n",
      "C | CTC L   | CCC P   | CAC H   | CGC R   | C\n",
      "C | CTA L   | CCA P   | CAA Q   | CGA R   | A\n",
      "C | CTG L(s)| CCG P   | CAG Q   | CGG R   | G\n",
      "--+---------+---------+---------+---------+--\n",
      "A | ATT I   | ACT T   | AAT N   | AGT S   | T\n",
      "A | ATC I   | ACC T   | AAC N   | AGC S   | C\n",
      "A | ATA I   | ACA T   | AAA K   | AGA R   | A\n",
      "A | ATG M(s)| ACG T   | AAG K   | AGG R   | G\n",
      "--+---------+---------+---------+---------+--\n",
      "G | GTT V   | GCT A   | GAT D   | GGT G   | T\n",
      "G | GTC V   | GCC A   | GAC D   | GGC G   | C\n",
      "G | GTA V   | GCA A   | GAA E   | GGA G   | A\n",
      "G | GTG V   | GCG A   | GAG E   | GGG G   | G\n",
      "--+---------+---------+---------+---------+--\n"
     ]
    }
   ],
   "source": [
    "# 4.4.8 codonTable.py\n",
    "from Bio.Data import CodonTable\n",
    "\n",
    "codon_table = CodonTable.unambiguous_dna_by_name[\"Standard\"]\n",
    "print(codon_table)"
   ]
  },
  {
   "cell_type": "markdown",
   "id": "3bd3e032",
   "metadata": {},
   "source": [
    "Standard라고 부르는 테이블 이외의 테이블도 출력할 수 있다. 다음은 미토콘드리아가 사용하는 코돈 테이블"
   ]
  },
  {
   "cell_type": "code",
   "execution_count": 11,
   "id": "b52680eb",
   "metadata": {},
   "outputs": [
    {
     "name": "stdout",
     "output_type": "stream",
     "text": [
      "Table 2 Vertebrate Mitochondrial, SGC1\n",
      "\n",
      "  |  T      |  C      |  A      |  G      |\n",
      "--+---------+---------+---------+---------+--\n",
      "T | TTT F   | TCT S   | TAT Y   | TGT C   | T\n",
      "T | TTC F   | TCC S   | TAC Y   | TGC C   | C\n",
      "T | TTA L   | TCA S   | TAA Stop| TGA W   | A\n",
      "T | TTG L   | TCG S   | TAG Stop| TGG W   | G\n",
      "--+---------+---------+---------+---------+--\n",
      "C | CTT L   | CCT P   | CAT H   | CGT R   | T\n",
      "C | CTC L   | CCC P   | CAC H   | CGC R   | C\n",
      "C | CTA L   | CCA P   | CAA Q   | CGA R   | A\n",
      "C | CTG L   | CCG P   | CAG Q   | CGG R   | G\n",
      "--+---------+---------+---------+---------+--\n",
      "A | ATT I(s)| ACT T   | AAT N   | AGT S   | T\n",
      "A | ATC I(s)| ACC T   | AAC N   | AGC S   | C\n",
      "A | ATA M(s)| ACA T   | AAA K   | AGA Stop| A\n",
      "A | ATG M(s)| ACG T   | AAG K   | AGG Stop| G\n",
      "--+---------+---------+---------+---------+--\n",
      "G | GTT V   | GCT A   | GAT D   | GGT G   | T\n",
      "G | GTC V   | GCC A   | GAC D   | GGC G   | C\n",
      "G | GTA V   | GCA A   | GAA E   | GGA G   | A\n",
      "G | GTG V(s)| GCG A   | GAG E   | GGG G   | G\n",
      "--+---------+---------+---------+---------+--\n"
     ]
    }
   ],
   "source": [
    "# 4.4.8 codonTable.py\n",
    "from Bio.Data import CodonTable\n",
    "\n",
    "codon_table = CodonTable.unambiguous_dna_by_name[\"Vertebrate Mitochondrial\"]\n",
    "print(codon_table)"
   ]
  },
  {
   "cell_type": "markdown",
   "id": "1869191d",
   "metadata": {},
   "source": [
    "### 4.4.9 Sequnce 객체에서 ORF 찾기"
   ]
  },
  {
   "cell_type": "markdown",
   "id": "a365f707",
   "metadata": {},
   "source": [
    "ORF(Open Reading Frame)은 시작 코돈인 ATG부터 시작하여 3개 염기서열씩 읽다가 TAA, TAG, TGA 중 하나를 만나면 하나의 단백질을 만들 가능성이 있는 코돈을 의미"
   ]
  },
  {
   "cell_type": "code",
   "execution_count": 13,
   "id": "36cc3eb1",
   "metadata": {},
   "outputs": [
    {
     "name": "stdout",
     "output_type": "stream",
     "text": [
      "ATGCAGTAG\n"
     ]
    }
   ],
   "source": [
    "# 4.4.9.orf_finder.py\n",
    "\n",
    "from Bio.Seq import Seq\n",
    "\n",
    "tatabox_seq = Seq(\"tataaaggcAATATGCAGTAG\")\n",
    "start_idx = tatabox_seq.find(\"ATG\")   \n",
    "end_idx = tatabox_seq.find(\"TAG\", start_idx)  # 예문의 편의상 TAG 로 하였다.  \n",
    "orf = tatabox_seq[start_idx:end_idx+3]  # 파이썬 문자열과 같은 방법으로 슬라이싱이 가능하다. \n",
    "print(orf)  # ATGCAGTAG"
   ]
  },
  {
   "cell_type": "markdown",
   "id": "38400fef",
   "metadata": {},
   "source": [
    "## 4.5 Bio.SeqUtils 모듈 활용"
   ]
  },
  {
   "cell_type": "markdown",
   "id": "18938aad",
   "metadata": {},
   "source": [
    "Bio.SeqUils 모듈은 GC-contents(%)를 간단히 계산해주거나 서열의 무게 계산, 유전서열에서 나올 수 있는 모든 아미노산 서열을 정리하여 보여주는 메서드들을 담고있음"
   ]
  },
  {
   "cell_type": "markdown",
   "id": "1caf6e6c",
   "metadata": {},
   "source": [
    "### 4.5.1 Bio.SeqUtils로 GC-contents(%) 계산하기"
   ]
  },
  {
   "cell_type": "code",
   "execution_count": 14,
   "id": "bc1f60ca",
   "metadata": {},
   "outputs": [
    {
     "name": "stdout",
     "output_type": "stream",
     "text": [
      "44.44444444444444\n"
     ]
    }
   ],
   "source": [
    "# 4.5.1.gc_contents.py\n",
    "from Bio.Seq import Seq\n",
    "from Bio.SeqUtils import GC\n",
    "\n",
    "exon_seq = Seq(\"ATGCAGTAG\")\n",
    "gc_contents = GC(exon_seq)\n",
    "print(gc_contents)  # 44.44"
   ]
  },
  {
   "cell_type": "markdown",
   "id": "4715a77d",
   "metadata": {},
   "source": [
    "### 4.5.2 Bio.SeqUtils로 서열의 무게 계산하기"
   ]
  },
  {
   "cell_type": "markdown",
   "id": "82c71f72",
   "metadata": {},
   "source": [
    "Bio.SeqUtils의 molecular_weight 메서드로 서열의 무게를 계산할 수 있다.\n",
    "\n",
    "아래처럼 서열은 같지만 DNA와 단백질 서열의 차이 때문에 무게가 다르다."
   ]
  },
  {
   "cell_type": "code",
   "execution_count": null,
   "id": "28a4979f",
   "metadata": {},
   "outputs": [],
   "source": [
    "# 4.5.2.calc_molecular_weight.py \n",
    "from Bio.Seq import Seq \n",
    "from Bio.Alphabet import IUPAC \n",
    "from Bio.SeqUtils import molecular_weight \n",
    "\n",
    "seq1 = Seq(\"ATGCAGTAG\") \n",
    "seq2 = Seq(\"ATGCAGTAG\", IUPAC.unambiguous_dna) \n",
    "seq3 = Seq(\"ATGCAGTAG\", IUPAC.protein) \n",
    "\n",
    "print(molecular_weight(seq1))  # 2842.82 가 출력된다 \n",
    "print(molecular_weight(seq2))  # 2842.82 가 출력된다 \n",
    "print(molecular_weight(seq3))  # 707.75 가 출력된다 "
   ]
  },
  {
   "cell_type": "markdown",
   "id": "6cf55e82",
   "metadata": {},
   "source": [
    "### 4.5.3 Bio.SeqUtils로 가능한 모든 번역 구하기"
   ]
  },
  {
   "cell_type": "markdown",
   "id": "d4f3e09c",
   "metadata": {},
   "source": [
    "Bio.SeqUtils의 six_frame_translations 메서드로 DNA 서열에서 가능한 모든 6개의 번역된 서열을 구할 수 있다.\n",
    "\n",
    "서열에 맞추어 가능한 6가지 번역이 한 줄씩 깔끔히 정리됨. 또한 서열 내 포함된 염기를 세어주고 길이와 GC-contents(%)도 계산해줌"
   ]
  },
  {
   "cell_type": "code",
   "execution_count": 1,
   "id": "5e75083a",
   "metadata": {},
   "outputs": [
    {
     "name": "stdout",
     "output_type": "stream",
     "text": [
      "GC_Frame: a:6 t:6 g:4 c:2 \n",
      "Sequence: atgccttgaaatgtatag, 18 nt, 33.33 %GC\n",
      "\n",
      "\n",
      "1/1\n",
      "  A  L  K  C  I\n",
      " C  L  E  M  Y\n",
      "M  P  *  N  V  *\n",
      "atgccttgaaatgtatag   33 %\n",
      "tacggaactttacatatc\n",
      "G  Q  F  T  Y \n",
      " H  R  S  I  Y  L\n",
      "  A  K  F  H  I\n",
      "\n",
      "\n"
     ]
    }
   ],
   "source": [
    "# 4.5.3.make_six_frame_translations.py \n",
    "from Bio.Seq import Seq \n",
    "from Bio.SeqUtils import six_frame_translations \n",
    "\n",
    "seq1 = Seq(\"ATGCCTTGAAATGTATAG\") \n",
    "print(six_frame_translations(seq1))"
   ]
  },
  {
   "cell_type": "markdown",
   "id": "f002e4cc",
   "metadata": {},
   "source": [
    "### 4.5.4 Bio.SeqUtils로 DNA 서열 Tm 계산하기"
   ]
  },
  {
   "cell_type": "markdown",
   "id": "171d0aa6",
   "metadata": {},
   "source": [
    "Bio.SeqUtils의 MeltingTemp 메서드로 DNA 서열의 Tm을 계산할 수 있음\\\n",
    "DNA의 이중 나선은 온도를 가하면 단일 사슬로 분리되는데, Tm이란 이중 나선의 절반이 단일 나선이 될 때의 온도임\\\n",
    "GC 간 결합이 AT 간 결합보다 결합 힘이 세기 때문에 GC-contents(%)가 높을수록 Tm값이 올라간다."
   ]
  },
  {
   "cell_type": "code",
   "execution_count": 2,
   "id": "82ba2f68",
   "metadata": {},
   "outputs": [
    {
     "name": "stdout",
     "output_type": "stream",
     "text": [
      "84.0\n"
     ]
    }
   ],
   "source": [
    "# 4.5.4.calc_melting_temperature.py \n",
    "from Bio.SeqUtils import MeltingTemp as mt \n",
    "from Bio.Seq import Seq \n",
    "\n",
    "myseq = Seq(\"AGTCTGGGACGGCGCGGCAATCGCA\") \n",
    "print(mt.Tm_Wallace(myseq))  # 84.0 이 출력된다. "
   ]
  },
  {
   "cell_type": "markdown",
   "id": "31a26426",
   "metadata": {},
   "source": [
    "### 4.5.5 Bio.SeqUtils로 아미노산 서열의 약자와 기호간 변환하기"
   ]
  },
  {
   "cell_type": "markdown",
   "id": "0f6acfb2",
   "metadata": {},
   "source": [
    "Bio.SeqUtils의 seq1 메서드와 seq3 메서드로 아미노산 서열의 약자와 기호간 상호변환을 할 수 있음"
   ]
  },
  {
   "cell_type": "code",
   "execution_count": 3,
   "id": "a5e64aed",
   "metadata": {},
   "outputs": [
    {
     "name": "stdout",
     "output_type": "stream",
     "text": [
      "LKMVITWF\n"
     ]
    }
   ],
   "source": [
    "# 4.5.5.convert_aminoacid_1to3.py \n",
    "from Bio.SeqUtils import seq1 \n",
    "\n",
    "essential_amino_acid_3 = \"LeuLysMetValIleThrTrpPhe\" \n",
    "print(seq1(essential_amino_acid_3))  ## LKMVITWF 가 출력된다. "
   ]
  },
  {
   "cell_type": "code",
   "execution_count": 4,
   "id": "8a45e433",
   "metadata": {},
   "outputs": [
    {
     "name": "stdout",
     "output_type": "stream",
     "text": [
      "LeuLysMetValIleThrTrpPhe\n"
     ]
    }
   ],
   "source": [
    "# 4.5.5.convert_aminoacid_3to1.py \n",
    "from Bio.SeqUtils import seq3 \n",
    "\n",
    "essential_amino_acid_1 = \"LKMVITWF\" \n",
    "print(seq3(essential_amino_acid_1))  ## LeuLysMetValIleThrTrpPhe 가 출력된다. "
   ]
  },
  {
   "cell_type": "markdown",
   "id": "a0331826",
   "metadata": {},
   "source": [
    "### 4.6 정리"
   ]
  },
  {
   "cell_type": "code",
   "execution_count": 5,
   "id": "69aa2ac9",
   "metadata": {},
   "outputs": [],
   "source": [
    "# 바이오 파이썬 Seq 라이브러리를 불러오는 방법\n",
    "from Bio.Seq import Seq\n",
    "\n",
    "# Seq 객체를 만드는 방법\n",
    "seq = Seq(\"ACGT\")"
   ]
  },
  {
   "cell_type": "markdown",
   "id": "87bc378d",
   "metadata": {},
   "source": [
    "객체에는 속성과 메서드가 있으며 Seq 객체는 파이썬 문자열처럼 count 메서드로 염기수를 셀 수 있다.\\\n",
    "Seq 객체의 transcribe, translate 메서드로 서열을 전사, 번역할 수 있고, \\\n",
    "complement, reverse_complement 메서드로 서열의 상보 서열, 역상보 서열을 구할 수 있다"
   ]
  },
  {
   "cell_type": "code",
   "execution_count": 6,
   "id": "8fe417be",
   "metadata": {},
   "outputs": [
    {
     "name": "stdout",
     "output_type": "stream",
     "text": [
      "Table 1 Standard, SGC0\n",
      "\n",
      "  |  U      |  C      |  A      |  G      |\n",
      "--+---------+---------+---------+---------+--\n",
      "U | UUU F   | UCU S   | UAU Y   | UGU C   | U\n",
      "U | UUC F   | UCC S   | UAC Y   | UGC C   | C\n",
      "U | UUA L   | UCA S   | UAA Stop| UGA Stop| A\n",
      "U | UUG L(s)| UCG S   | UAG Stop| UGG W   | G\n",
      "--+---------+---------+---------+---------+--\n",
      "C | CUU L   | CCU P   | CAU H   | CGU R   | U\n",
      "C | CUC L   | CCC P   | CAC H   | CGC R   | C\n",
      "C | CUA L   | CCA P   | CAA Q   | CGA R   | A\n",
      "C | CUG L(s)| CCG P   | CAG Q   | CGG R   | G\n",
      "--+---------+---------+---------+---------+--\n",
      "A | AUU I   | ACU T   | AAU N   | AGU S   | U\n",
      "A | AUC I   | ACC T   | AAC N   | AGC S   | C\n",
      "A | AUA I   | ACA T   | AAA K   | AGA R   | A\n",
      "A | AUG M(s)| ACG T   | AAG K   | AGG R   | G\n",
      "--+---------+---------+---------+---------+--\n",
      "G | GUU V   | GCU A   | GAU D   | GGU G   | U\n",
      "G | GUC V   | GCC A   | GAC D   | GGC G   | C\n",
      "G | GUA V   | GCA A   | GAA E   | GGA G   | A\n",
      "G | GUG V   | GCG A   | GAG E   | GGG G   | G\n",
      "--+---------+---------+---------+---------+--\n"
     ]
    }
   ],
   "source": [
    "# 코돈 테이블을 출력하는 방법\n",
    "from Bio.Data import CodonTable\n",
    "print(CodonTable.unambiguous_rna_by_name[\"Standard\"])"
   ]
  },
  {
   "cell_type": "markdown",
   "id": "af748077",
   "metadata": {},
   "source": [
    "### 4.7 연습문제"
   ]
  },
  {
   "cell_type": "markdown",
   "id": "057593fe",
   "metadata": {},
   "source": [
    "문항 1. 다음 서열을 Sequence 객체로 만들어 대문자로 변환하시오.\\\n",
    "\\\n",
    "서열: aagtGACAGggatTG\n"
   ]
  },
  {
   "cell_type": "code",
   "execution_count": 8,
   "id": "559b29c6",
   "metadata": {},
   "outputs": [
    {
     "data": {
      "text/plain": [
       "Seq('AAGTGACAGGGATTG')"
      ]
     },
     "execution_count": 8,
     "metadata": {},
     "output_type": "execute_result"
    }
   ],
   "source": [
    "seq = Seq(\"aagtGACAGggatTG\").upper()\n",
    "seq"
   ]
  },
  {
   "cell_type": "markdown",
   "id": "2fe1d742",
   "metadata": {},
   "source": [
    "문항 2. 다음 서열을 첫 번째 종결 코돈까지 번역하시오.\\\n",
    "\\\n",
    "서열: AAGTGACAGGGATTG"
   ]
  },
  {
   "cell_type": "code",
   "execution_count": 19,
   "id": "8cd4dc78",
   "metadata": {},
   "outputs": [
    {
     "data": {
      "text/plain": [
       "Seq('K')"
      ]
     },
     "execution_count": 19,
     "metadata": {},
     "output_type": "execute_result"
    }
   ],
   "source": [
    "seq.translate(to_stop=True)"
   ]
  },
  {
   "cell_type": "markdown",
   "id": "d1a2de4b",
   "metadata": {},
   "source": [
    "문항 3. 다음 서열의 역상보 서열의 GC(%)와 녹는 점(Tm)을 계산하시오\\\n",
    "\\\n",
    "서열: AAGTGACAGGGATTG"
   ]
  },
  {
   "cell_type": "code",
   "execution_count": 15,
   "id": "d199ccd6",
   "metadata": {},
   "outputs": [
    {
     "name": "stdout",
     "output_type": "stream",
     "text": [
      "Tm: 44.0\n",
      "GC-contents(%):  46.666666666666664\n"
     ]
    }
   ],
   "source": [
    "seq_reverse = seq.reverse_complement() #역상보서열\n",
    "print(\"Tm:\", mt.Tm_Wallace(seq_reverse))\n",
    "print(\"GC-contents(%): \", GC(seq_reverse))"
   ]
  },
  {
   "cell_type": "markdown",
   "id": "279d9feb",
   "metadata": {},
   "source": [
    "문항 4. 바이오파이썬의 코돈 테이블을 참고하여 인간과 미토콘드리아의 종결 코돈을 알아보시오."
   ]
  },
  {
   "cell_type": "code",
   "execution_count": 16,
   "id": "296327d8",
   "metadata": {},
   "outputs": [
    {
     "name": "stdout",
     "output_type": "stream",
     "text": [
      "Table 1 Standard, SGC0\n",
      "\n",
      "  |  U      |  C      |  A      |  G      |\n",
      "--+---------+---------+---------+---------+--\n",
      "U | UUU F   | UCU S   | UAU Y   | UGU C   | U\n",
      "U | UUC F   | UCC S   | UAC Y   | UGC C   | C\n",
      "U | UUA L   | UCA S   | UAA Stop| UGA Stop| A\n",
      "U | UUG L(s)| UCG S   | UAG Stop| UGG W   | G\n",
      "--+---------+---------+---------+---------+--\n",
      "C | CUU L   | CCU P   | CAU H   | CGU R   | U\n",
      "C | CUC L   | CCC P   | CAC H   | CGC R   | C\n",
      "C | CUA L   | CCA P   | CAA Q   | CGA R   | A\n",
      "C | CUG L(s)| CCG P   | CAG Q   | CGG R   | G\n",
      "--+---------+---------+---------+---------+--\n",
      "A | AUU I   | ACU T   | AAU N   | AGU S   | U\n",
      "A | AUC I   | ACC T   | AAC N   | AGC S   | C\n",
      "A | AUA I   | ACA T   | AAA K   | AGA R   | A\n",
      "A | AUG M(s)| ACG T   | AAG K   | AGG R   | G\n",
      "--+---------+---------+---------+---------+--\n",
      "G | GUU V   | GCU A   | GAU D   | GGU G   | U\n",
      "G | GUC V   | GCC A   | GAC D   | GGC G   | C\n",
      "G | GUA V   | GCA A   | GAA E   | GGA G   | A\n",
      "G | GUG V   | GCG A   | GAG E   | GGG G   | G\n",
      "--+---------+---------+---------+---------+--\n"
     ]
    }
   ],
   "source": [
    "print(CodonTable.unambiguous_rna_by_name[\"Standard\"])"
   ]
  },
  {
   "cell_type": "markdown",
   "id": "53593d89",
   "metadata": {},
   "source": [
    "인간의 종결 코돈: TAA, TAG, TGA"
   ]
  },
  {
   "cell_type": "code",
   "execution_count": 17,
   "id": "f42d0834",
   "metadata": {},
   "outputs": [
    {
     "name": "stdout",
     "output_type": "stream",
     "text": [
      "Table 2 Vertebrate Mitochondrial, SGC1\n",
      "\n",
      "  |  U      |  C      |  A      |  G      |\n",
      "--+---------+---------+---------+---------+--\n",
      "U | UUU F   | UCU S   | UAU Y   | UGU C   | U\n",
      "U | UUC F   | UCC S   | UAC Y   | UGC C   | C\n",
      "U | UUA L   | UCA S   | UAA Stop| UGA W   | A\n",
      "U | UUG L   | UCG S   | UAG Stop| UGG W   | G\n",
      "--+---------+---------+---------+---------+--\n",
      "C | CUU L   | CCU P   | CAU H   | CGU R   | U\n",
      "C | CUC L   | CCC P   | CAC H   | CGC R   | C\n",
      "C | CUA L   | CCA P   | CAA Q   | CGA R   | A\n",
      "C | CUG L   | CCG P   | CAG Q   | CGG R   | G\n",
      "--+---------+---------+---------+---------+--\n",
      "A | AUU I(s)| ACU T   | AAU N   | AGU S   | U\n",
      "A | AUC I(s)| ACC T   | AAC N   | AGC S   | C\n",
      "A | AUA M(s)| ACA T   | AAA K   | AGA Stop| A\n",
      "A | AUG M(s)| ACG T   | AAG K   | AGG Stop| G\n",
      "--+---------+---------+---------+---------+--\n",
      "G | GUU V   | GCU A   | GAU D   | GGU G   | U\n",
      "G | GUC V   | GCC A   | GAC D   | GGC G   | C\n",
      "G | GUA V   | GCA A   | GAA E   | GGA G   | A\n",
      "G | GUG V(s)| GCG A   | GAG E   | GGG G   | G\n",
      "--+---------+---------+---------+---------+--\n"
     ]
    }
   ],
   "source": [
    "print(CodonTable.unambiguous_rna_by_name[\"Vertebrate Mitochondrial\"])"
   ]
  },
  {
   "cell_type": "markdown",
   "id": "4998e053",
   "metadata": {},
   "source": [
    "미토콘드리아의 종결 코돈: TAA, TAG, AGA, AGG"
   ]
  },
  {
   "cell_type": "code",
   "execution_count": null,
   "id": "eb903441",
   "metadata": {},
   "outputs": [],
   "source": []
  }
 ],
 "metadata": {
  "kernelspec": {
   "display_name": "Python 3 (ipykernel)",
   "language": "python",
   "name": "python3"
  },
  "language_info": {
   "codemirror_mode": {
    "name": "ipython",
    "version": 3
   },
   "file_extension": ".py",
   "mimetype": "text/x-python",
   "name": "python",
   "nbconvert_exporter": "python",
   "pygments_lexer": "ipython3",
   "version": "3.8.5"
  }
 },
 "nbformat": 4,
 "nbformat_minor": 5
}
